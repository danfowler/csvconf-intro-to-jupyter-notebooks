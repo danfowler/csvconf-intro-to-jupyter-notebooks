{
 "cells": [
  {
   "cell_type": "markdown",
   "metadata": {},
   "source": [
    "# Introduction to Jupyter Notebooks\n",
    "\n",
    "## A Data Tables session at csv,conv,v3 \n",
    "\n",
    "**Facilitator**: Dan Fowler, Developer Advocate at [Open Knowledge International](https://okfn.org/)\n",
    "\n",
    "**Venue**: [csv,conf,v3](https://csvconf.com/) in Portland, Oregon 2-3 May 2017\n",
    "\n",
    "**Description**: Jupyter Notebooks are a convenient way to experiment, share code and context, and collaborate on data analysis.  This session is part of Data Tables.  It is an introduction to the use of Jupyter Notebooks inspired by [Micheleen Harris's talk last year](https://csvconf.com/2016/#mharris) at csv,conv,v2 ([slides here](https://github.com/michhar/csvconf2016)).  \n",
    "\n",
    "**Session Time**: TBD\n",
    "\n",
    "**Goals**:\n",
    "\n",
    "- Introduce and motivate Jupyter Notebooks\n",
    "- Help install on attendees' systems\n",
    "- Walk through basic usage\n",
    "\n",
    "![OKI](https://a.okfn.org/img/oki/landscape-rgb-234x61.png)\n"
   ]
  },
  {
   "cell_type": "markdown",
   "metadata": {},
   "source": [
    "## Data Tables\n",
    "\n",
    "A dedicated space at csv,conf,v3 for hacking on data and learning about tools\n",
    "\n",
    "Learn more: https://github.com/csvconf/data-tables.csv\n",
    "\n",
    "![img](data-tables.png)"
   ]
  },
  {
   "cell_type": "markdown",
   "metadata": {},
   "source": [
    "## What is a Jupyter Notebook?\n",
    "\n",
    "- A Jupyter (formerly IPython) Notebook is a way of packaging code, images, rendered graphs, and commentary in a convenient, sharable format.  \n",
    "- Jupyter Notebooks allow users to share analysis in a visually rich way.  \n",
    "  - You can share the generated `*.ipynb` file.  GitHub will also automatically render uploaded notebooks (see [NBViewer](http://nbviewer.jupyter.org/))\n",
    "- Code is interactive and executable\n",
    "  - Executed code cells (including simple variables) render output (if any) directly to the notebook\n",
    "  - Code and rendered output is stored in a notebook file (`introduction-to-jupyter-notebooks.ipynb`)\n",
    "- Default language supported is Python\n",
    "  - Additional language support provided by *kernels* (50+)\n",
    "  \n",
    "## Example\n",
    "\n",
    "For this notebook, we will load csv,conf,v2 and csv,conf,v3 speakers CSV files in separate code cells using pandas.  We will also scrape csv,conf,v1 speaker information from the website.  This should show how easy it is to perform basic data processing tasks with Jupyter Notebooks.\n",
    "\n",
    "What follows this \"cell\" (the basic unit of a Jupyter Notebook) is another cell containing executable Python code.  After clicking within, shift+enter executes and renders the output in space below."
   ]
  },
  {
   "cell_type": "code",
   "execution_count": 1,
   "metadata": {},
   "outputs": [
    {
     "data": {
      "text/html": [
       "<div>\n",
       "<table border=\"1\" class=\"dataframe\">\n",
       "  <thead>\n",
       "    <tr style=\"text-align: right;\">\n",
       "      <th></th>\n",
       "      <th>id</th>\n",
       "      <th>name</th>\n",
       "      <th>title</th>\n",
       "      <th>img</th>\n",
       "      <th>twitter</th>\n",
       "      <th>slides_url</th>\n",
       "      <th>abstract</th>\n",
       "      <th>year</th>\n",
       "    </tr>\n",
       "  </thead>\n",
       "  <tbody>\n",
       "    <tr>\n",
       "      <th>0</th>\n",
       "      <td>ebecker</td>\n",
       "      <td>Erin Becker</td>\n",
       "      <td>Empowering people by democratizing data skills</td>\n",
       "      <td>NaN</td>\n",
       "      <td>ErinSBecker</td>\n",
       "      <td>NaN</td>\n",
       "      <td>Although petabytes of data are now available,...</td>\n",
       "      <td>2017</td>\n",
       "    </tr>\n",
       "    <tr>\n",
       "      <th>1</th>\n",
       "      <td>mhertzfeld</td>\n",
       "      <td>Michelle Hertzfeld</td>\n",
       "      <td>Designing with data: prototyping at the speed ...</td>\n",
       "      <td>https://michellehertzfeld.com/assets/img/miche...</td>\n",
       "      <td>meiqimichelle</td>\n",
       "      <td>NaN</td>\n",
       "      <td>We've all done it. Mocked up a perfect dashboa...</td>\n",
       "      <td>2017</td>\n",
       "    </tr>\n",
       "    <tr>\n",
       "      <th>2</th>\n",
       "      <td>dwhalen</td>\n",
       "      <td>Danny Whalen</td>\n",
       "      <td>The evolution of a GTFS data pipeline</td>\n",
       "      <td>https://pbs.twimg.com/profile_images/507955752...</td>\n",
       "      <td>invisiblefunnel</td>\n",
       "      <td>NaN</td>\n",
       "      <td>The General Transit Feed Specification is one ...</td>\n",
       "      <td>2017</td>\n",
       "    </tr>\n",
       "    <tr>\n",
       "      <th>3</th>\n",
       "      <td>dbrawley</td>\n",
       "      <td>Dare Anne Brawley</td>\n",
       "      <td>Urban/Information: Mapping the US Postal Servi...</td>\n",
       "      <td>http://c4sr.columbia.edu/sites/default/files/s...</td>\n",
       "      <td>darebrawley</td>\n",
       "      <td>NaN</td>\n",
       "      <td>In this talk I will use one dataset, and 165 m...</td>\n",
       "      <td>2017</td>\n",
       "    </tr>\n",
       "    <tr>\n",
       "      <th>4</th>\n",
       "      <td>hazhar</td>\n",
       "      <td>Hamdan Azhar</td>\n",
       "      <td>✊s, 🌹s, and major 🔑s: Emoji data science &amp; jou...</td>\n",
       "      <td>http://www.hamdanazhar.com/uploads/2/5/5/1/255...</td>\n",
       "      <td>hamdanazhar</td>\n",
       "      <td>NaN</td>\n",
       "      <td>NaN</td>\n",
       "      <td>2017</td>\n",
       "    </tr>\n",
       "  </tbody>\n",
       "</table>\n",
       "</div>"
      ],
      "text/plain": [
       "           id                name  \\\n",
       "0     ebecker         Erin Becker   \n",
       "1  mhertzfeld  Michelle Hertzfeld   \n",
       "2     dwhalen        Danny Whalen   \n",
       "3    dbrawley   Dare Anne Brawley   \n",
       "4      hazhar        Hamdan Azhar   \n",
       "\n",
       "                                               title  \\\n",
       "0     Empowering people by democratizing data skills   \n",
       "1  Designing with data: prototyping at the speed ...   \n",
       "2              The evolution of a GTFS data pipeline   \n",
       "3  Urban/Information: Mapping the US Postal Servi...   \n",
       "4  ✊s, 🌹s, and major 🔑s: Emoji data science & jou...   \n",
       "\n",
       "                                                 img          twitter  \\\n",
       "0                                                NaN      ErinSBecker   \n",
       "1  https://michellehertzfeld.com/assets/img/miche...    meiqimichelle   \n",
       "2  https://pbs.twimg.com/profile_images/507955752...  invisiblefunnel   \n",
       "3  http://c4sr.columbia.edu/sites/default/files/s...      darebrawley   \n",
       "4  http://www.hamdanazhar.com/uploads/2/5/5/1/255...      hamdanazhar   \n",
       "\n",
       "   slides_url                                           abstract  year  \n",
       "0         NaN   Although petabytes of data are now available,...  2017  \n",
       "1         NaN  We've all done it. Mocked up a perfect dashboa...  2017  \n",
       "2         NaN  The General Transit Feed Specification is one ...  2017  \n",
       "3         NaN  In this talk I will use one dataset, and 165 m...  2017  \n",
       "4         NaN                                                NaN  2017  "
      ]
     },
     "execution_count": 1,
     "metadata": {},
     "output_type": "execute_result"
    }
   ],
   "source": [
    "# Python code cell; after typing press shift+enter to execute\n",
    "\n",
    "# Load pandas and read in a CSV.  All the variables are accessible throughout the notebook in the cells below.\n",
    "import pandas as pd\n",
    "df = pd.read_csv('https://raw.githubusercontent.com/csvconf/csvconf.com/gh-pages/_data/2017_speakers.csv')\n",
    "\n",
    "# Add a year column whose value is always '2017'.\n",
    "df['year'] = '2017'\n",
    "\n",
    "# Preview the first few rows by calling .head() on the dataframe\n",
    "df.head()"
   ]
  },
  {
   "cell_type": "markdown",
   "metadata": {},
   "source": [
    "As you can see, we get a very interactive and rich rendering of the dataframe.  We can inspect this dataframe very easily."
   ]
  },
  {
   "cell_type": "code",
   "execution_count": 2,
   "metadata": {},
   "outputs": [
    {
     "data": {
      "text/plain": [
       "45"
      ]
     },
     "execution_count": 2,
     "metadata": {},
     "output_type": "execute_result"
    }
   ],
   "source": [
    "# How many records in the dataframe?  As you can see, the variable 'df' is still accessible.\n",
    "len(df)"
   ]
  },
  {
   "cell_type": "code",
   "execution_count": 3,
   "metadata": {},
   "outputs": [
    {
     "data": {
      "text/plain": [
       "81"
      ]
     },
     "execution_count": 3,
     "metadata": {},
     "output_type": "execute_result"
    }
   ],
   "source": [
    "# Let's load last year's speakers, too.  \n",
    "\n",
    "df2 = pd.read_csv('https://raw.githubusercontent.com/csvconf/csvconf.com/gh-pages/_data/speakers.csv')\n",
    "\n",
    "# Add a year column whose value is always '2016'.\n",
    "df2['year'] = '2016'\n",
    "\n",
    "# Let's append the contents of this dataframe (df2) to the one created in the above cell.\n",
    "df = df.append(df2)\n",
    "\n",
    "# How many records are now in the dataframe?\n",
    "len(df)"
   ]
  },
  {
   "cell_type": "markdown",
   "metadata": {},
   "source": [
    "### Using \n",
    "\n",
    "After this motivating example, let's take a quick break and demonstrate how we can actually start using Jupyter Notebooks on your machine.\n",
    "\n",
    "#### Try online\n",
    "\n",
    "You can play around with Jupyter notebooks here:\n",
    "\n",
    "https://try.jupyter.org/\n",
    "\n",
    "Microsoft provides a hosted service for creating and collaborating on notebooks: \n",
    "\n",
    "https://notebooks.azure.com/\n",
    "\n",
    "#### Local install\n",
    "\n",
    "Jupyter Notebooks run in a web browser, but depend on a running Python environment on your machine.  If you have Python set up already, you can install via pip, but Jupyter recommends Conda.\n",
    "\n",
    "##### Conda (recommended)\n",
    "\n",
    "https://www.continuum.io/downloads\n",
    "\n",
    "##### pip\n",
    "\n",
    "```\n",
    "pip3 install jupyter\n",
    "```\n",
    "\n",
    "#### Running\n",
    "\n",
    "After installing, you can start a session by typing:\n",
    "\n",
    "```\n",
    "jupyter notebook\n",
    "```\n",
    "\n",
    "You can choose the browser as well.  Example:\n",
    "\n",
    "```\n",
    "jupyter notebook --browser=chrome\n",
    "```"
   ]
  },
  {
   "cell_type": "markdown",
   "metadata": {},
   "source": [
    "## Basic use\n",
    "\n",
    "### Help\n",
    "\n",
    "You can get help for unfamiliar (or familiar!) commands directly within Jupyter by appending a question mark"
   ]
  },
  {
   "cell_type": "code",
   "execution_count": 4,
   "metadata": {
    "collapsed": true
   },
   "outputs": [],
   "source": [
    "pd.read_csv?"
   ]
  },
  {
   "cell_type": "markdown",
   "metadata": {},
   "source": [
    "![Help!](help.png)\n",
    "\n",
    "### Autocomplete\n",
    "\n",
    "Jupyter Notebooks also support autocomplete.\n",
    "\n",
    "![Autocomplete](autocomplete.png)"
   ]
  },
  {
   "cell_type": "markdown",
   "metadata": {},
   "source": [
    "### Switching Cell Type\n",
    "\n",
    "Each cell has a type.  Some cells are for code, others are for comments.  The way to add Markdown comments instead of code is to change the cell type.\n",
    "\n",
    "![Cell type](cell-type.png)\n"
   ]
  },
  {
   "cell_type": "markdown",
   "metadata": {},
   "source": [
    "## Continuing the Example\n",
    "\n",
    "### Creating a chart\n",
    "\n",
    "Let's create a chart to compare the average length of csv,conf talk titles from 2014 to 2017.  Have they gotten longer or shorter?\n",
    "\n",
    "To do this, we can also need add the 2014 data.  Since we don't have a handy CSV to work with, we need to scrape the data from the original website using [BeautifulSoup](https://pypi.python.org/pypi/beautifulsoup4) 🍲."
   ]
  },
  {
   "cell_type": "code",
   "execution_count": 5,
   "metadata": {
    "collapsed": true
   },
   "outputs": [],
   "source": [
    "from bs4 import BeautifulSoup\n",
    "import urllib\n",
    "url = 'https://csvconf.com/2014/'\n",
    "page = page = urllib.request.urlopen(url)\n",
    "soup = BeautifulSoup(page, \"html5lib\")\n",
    "\n",
    "# Create a variable to fill in with scraped data \n",
    "d = {\"name\": [], \"title\": [], \"year\": []}\n",
    "\n",
    "# \n",
    "talk_elements = soup.findAll(\"li\", { \"class\" : \"features-item\" })\n",
    "for talk_element in talk_elements:\n",
    "    d['name'].append(talk_element.find(\"h4\").text)\n",
    "    d['title'].append(talk_element.find(\"h3\").text)\n",
    "    d['year'].append('2014')\n",
    "    \n",
    "df = df.append(pd.DataFrame(data=d))"
   ]
  },
  {
   "cell_type": "code",
   "execution_count": 6,
   "metadata": {},
   "outputs": [
    {
     "data": {
      "text/html": [
       "<div>\n",
       "<table border=\"1\" class=\"dataframe\">\n",
       "  <thead>\n",
       "    <tr style=\"text-align: right;\">\n",
       "      <th></th>\n",
       "      <th>abstract</th>\n",
       "      <th>id</th>\n",
       "      <th>img</th>\n",
       "      <th>name</th>\n",
       "      <th>slides_url</th>\n",
       "      <th>title</th>\n",
       "      <th>twitter</th>\n",
       "      <th>year</th>\n",
       "      <th>title_length</th>\n",
       "    </tr>\n",
       "  </thead>\n",
       "  <tbody>\n",
       "    <tr>\n",
       "      <th>0</th>\n",
       "      <td>Although petabytes of data are now available,...</td>\n",
       "      <td>ebecker</td>\n",
       "      <td>NaN</td>\n",
       "      <td>Erin Becker</td>\n",
       "      <td>NaN</td>\n",
       "      <td>Empowering people by democratizing data skills</td>\n",
       "      <td>ErinSBecker</td>\n",
       "      <td>2017</td>\n",
       "      <td>46</td>\n",
       "    </tr>\n",
       "    <tr>\n",
       "      <th>1</th>\n",
       "      <td>We've all done it. Mocked up a perfect dashboa...</td>\n",
       "      <td>mhertzfeld</td>\n",
       "      <td>https://michellehertzfeld.com/assets/img/miche...</td>\n",
       "      <td>Michelle Hertzfeld</td>\n",
       "      <td>NaN</td>\n",
       "      <td>Designing with data: prototyping at the speed ...</td>\n",
       "      <td>meiqimichelle</td>\n",
       "      <td>2017</td>\n",
       "      <td>57</td>\n",
       "    </tr>\n",
       "    <tr>\n",
       "      <th>2</th>\n",
       "      <td>The General Transit Feed Specification is one ...</td>\n",
       "      <td>dwhalen</td>\n",
       "      <td>https://pbs.twimg.com/profile_images/507955752...</td>\n",
       "      <td>Danny Whalen</td>\n",
       "      <td>NaN</td>\n",
       "      <td>The evolution of a GTFS data pipeline</td>\n",
       "      <td>invisiblefunnel</td>\n",
       "      <td>2017</td>\n",
       "      <td>37</td>\n",
       "    </tr>\n",
       "    <tr>\n",
       "      <th>3</th>\n",
       "      <td>In this talk I will use one dataset, and 165 m...</td>\n",
       "      <td>dbrawley</td>\n",
       "      <td>http://c4sr.columbia.edu/sites/default/files/s...</td>\n",
       "      <td>Dare Anne Brawley</td>\n",
       "      <td>NaN</td>\n",
       "      <td>Urban/Information: Mapping the US Postal Servi...</td>\n",
       "      <td>darebrawley</td>\n",
       "      <td>2017</td>\n",
       "      <td>63</td>\n",
       "    </tr>\n",
       "    <tr>\n",
       "      <th>4</th>\n",
       "      <td>NaN</td>\n",
       "      <td>hazhar</td>\n",
       "      <td>http://www.hamdanazhar.com/uploads/2/5/5/1/255...</td>\n",
       "      <td>Hamdan Azhar</td>\n",
       "      <td>NaN</td>\n",
       "      <td>✊s, 🌹s, and major 🔑s: Emoji data science &amp; jou...</td>\n",
       "      <td>hamdanazhar</td>\n",
       "      <td>2017</td>\n",
       "      <td>53</td>\n",
       "    </tr>\n",
       "  </tbody>\n",
       "</table>\n",
       "</div>"
      ],
      "text/plain": [
       "                                            abstract          id  \\\n",
       "0   Although petabytes of data are now available,...     ebecker   \n",
       "1  We've all done it. Mocked up a perfect dashboa...  mhertzfeld   \n",
       "2  The General Transit Feed Specification is one ...     dwhalen   \n",
       "3  In this talk I will use one dataset, and 165 m...    dbrawley   \n",
       "4                                                NaN      hazhar   \n",
       "\n",
       "                                                 img                name  \\\n",
       "0                                                NaN         Erin Becker   \n",
       "1  https://michellehertzfeld.com/assets/img/miche...  Michelle Hertzfeld   \n",
       "2  https://pbs.twimg.com/profile_images/507955752...        Danny Whalen   \n",
       "3  http://c4sr.columbia.edu/sites/default/files/s...   Dare Anne Brawley   \n",
       "4  http://www.hamdanazhar.com/uploads/2/5/5/1/255...        Hamdan Azhar   \n",
       "\n",
       "  slides_url                                              title  \\\n",
       "0        NaN     Empowering people by democratizing data skills   \n",
       "1        NaN  Designing with data: prototyping at the speed ...   \n",
       "2        NaN              The evolution of a GTFS data pipeline   \n",
       "3        NaN  Urban/Information: Mapping the US Postal Servi...   \n",
       "4        NaN  ✊s, 🌹s, and major 🔑s: Emoji data science & jou...   \n",
       "\n",
       "           twitter  year  title_length  \n",
       "0      ErinSBecker  2017            46  \n",
       "1    meiqimichelle  2017            57  \n",
       "2  invisiblefunnel  2017            37  \n",
       "3      darebrawley  2017            63  \n",
       "4      hamdanazhar  2017            53  "
      ]
     },
     "execution_count": 6,
     "metadata": {},
     "output_type": "execute_result"
    }
   ],
   "source": [
    "# For each record, let's apply the function len (length) to the 'title' field and\n",
    "# store the output in a new field called 'title_length'. Pandas makes this easy.\n",
    "\n",
    "df['title_length'] = df['title'].apply(len)\n",
    "df.head()"
   ]
  },
  {
   "cell_type": "code",
   "execution_count": 7,
   "metadata": {},
   "outputs": [
    {
     "data": {
      "text/plain": [
       "year\n",
       "2014    42.300000\n",
       "2016    51.027778\n",
       "2017    54.088889\n",
       "Name: title_length, dtype: float64"
      ]
     },
     "execution_count": 7,
     "metadata": {},
     "output_type": "execute_result"
    }
   ],
   "source": [
    "# We generate group the dataset by year and generate the mean values in the 'title_length' field.\n",
    "\n",
    "df.groupby(['year'])['title_length'].mean()"
   ]
  },
  {
   "cell_type": "markdown",
   "metadata": {},
   "source": [
    "It is worth now exploring ✨ magic ✨ before the next step.\n",
    "\n",
    "![Magic!](https://media1.giphy.com/media/ujUdrdpX7Ok5W/giphy.gif)\n",
    "\n",
    "\n",
    "\n",
    "### Magics\n",
    "\n",
    "The IPython kernel supports a number of \"magic\" commands (*magics*) that do special things either at the cell level or at the line level.  In order to plot seamlessly, we can take advantage of the line-level `%matplotlib` magic.\n",
    "\n",
    "You can get an idea of the different magics available to the kernel by running `%lsmagic`"
   ]
  },
  {
   "cell_type": "code",
   "execution_count": 8,
   "metadata": {},
   "outputs": [
    {
     "data": {
      "application/json": {
       "cell": {
        "!": "OSMagics",
        "HTML": "Other",
        "SVG": "Other",
        "bash": "Other",
        "capture": "ExecutionMagics",
        "debug": "ExecutionMagics",
        "file": "Other",
        "html": "DisplayMagics",
        "javascript": "DisplayMagics",
        "js": "DisplayMagics",
        "latex": "DisplayMagics",
        "perl": "Other",
        "prun": "ExecutionMagics",
        "pypy": "Other",
        "python": "Other",
        "python2": "Other",
        "python3": "Other",
        "ruby": "Other",
        "script": "ScriptMagics",
        "sh": "Other",
        "svg": "DisplayMagics",
        "sx": "OSMagics",
        "system": "OSMagics",
        "time": "ExecutionMagics",
        "timeit": "ExecutionMagics",
        "writefile": "OSMagics"
       },
       "line": {
        "alias": "OSMagics",
        "alias_magic": "BasicMagics",
        "autocall": "AutoMagics",
        "automagic": "AutoMagics",
        "autosave": "KernelMagics",
        "bookmark": "OSMagics",
        "cat": "Other",
        "cd": "OSMagics",
        "clear": "KernelMagics",
        "colors": "BasicMagics",
        "config": "ConfigMagics",
        "connect_info": "KernelMagics",
        "cp": "Other",
        "debug": "ExecutionMagics",
        "dhist": "OSMagics",
        "dirs": "OSMagics",
        "doctest_mode": "BasicMagics",
        "ed": "Other",
        "edit": "KernelMagics",
        "env": "OSMagics",
        "gui": "BasicMagics",
        "hist": "Other",
        "history": "HistoryMagics",
        "killbgscripts": "ScriptMagics",
        "ldir": "Other",
        "less": "KernelMagics",
        "lf": "Other",
        "lk": "Other",
        "ll": "Other",
        "load": "CodeMagics",
        "load_ext": "ExtensionMagics",
        "loadpy": "CodeMagics",
        "logoff": "LoggingMagics",
        "logon": "LoggingMagics",
        "logstart": "LoggingMagics",
        "logstate": "LoggingMagics",
        "logstop": "LoggingMagics",
        "ls": "Other",
        "lsmagic": "BasicMagics",
        "lx": "Other",
        "macro": "ExecutionMagics",
        "magic": "BasicMagics",
        "man": "KernelMagics",
        "matplotlib": "PylabMagics",
        "mkdir": "Other",
        "more": "KernelMagics",
        "mv": "Other",
        "notebook": "BasicMagics",
        "page": "BasicMagics",
        "pastebin": "CodeMagics",
        "pdb": "ExecutionMagics",
        "pdef": "NamespaceMagics",
        "pdoc": "NamespaceMagics",
        "pfile": "NamespaceMagics",
        "pinfo": "NamespaceMagics",
        "pinfo2": "NamespaceMagics",
        "popd": "OSMagics",
        "pprint": "BasicMagics",
        "precision": "BasicMagics",
        "profile": "BasicMagics",
        "prun": "ExecutionMagics",
        "psearch": "NamespaceMagics",
        "psource": "NamespaceMagics",
        "pushd": "OSMagics",
        "pwd": "OSMagics",
        "pycat": "OSMagics",
        "pylab": "PylabMagics",
        "qtconsole": "KernelMagics",
        "quickref": "BasicMagics",
        "recall": "HistoryMagics",
        "rehashx": "OSMagics",
        "reload_ext": "ExtensionMagics",
        "rep": "Other",
        "rerun": "HistoryMagics",
        "reset": "NamespaceMagics",
        "reset_selective": "NamespaceMagics",
        "rm": "Other",
        "rmdir": "Other",
        "run": "ExecutionMagics",
        "save": "CodeMagics",
        "sc": "OSMagics",
        "set_env": "OSMagics",
        "store": "StoreMagics",
        "sx": "OSMagics",
        "system": "OSMagics",
        "tb": "ExecutionMagics",
        "time": "ExecutionMagics",
        "timeit": "ExecutionMagics",
        "unalias": "OSMagics",
        "unload_ext": "ExtensionMagics",
        "who": "NamespaceMagics",
        "who_ls": "NamespaceMagics",
        "whos": "NamespaceMagics",
        "xdel": "NamespaceMagics",
        "xmode": "BasicMagics"
       }
      },
      "text/plain": [
       "Available line magics:\n",
       "%alias  %alias_magic  %autocall  %automagic  %autosave  %bookmark  %cat  %cd  %clear  %colors  %config  %connect_info  %cp  %debug  %dhist  %dirs  %doctest_mode  %ed  %edit  %env  %gui  %hist  %history  %killbgscripts  %ldir  %less  %lf  %lk  %ll  %load  %load_ext  %loadpy  %logoff  %logon  %logstart  %logstate  %logstop  %ls  %lsmagic  %lx  %macro  %magic  %man  %matplotlib  %mkdir  %more  %mv  %notebook  %page  %pastebin  %pdb  %pdef  %pdoc  %pfile  %pinfo  %pinfo2  %popd  %pprint  %precision  %profile  %prun  %psearch  %psource  %pushd  %pwd  %pycat  %pylab  %qtconsole  %quickref  %recall  %rehashx  %reload_ext  %rep  %rerun  %reset  %reset_selective  %rm  %rmdir  %run  %save  %sc  %set_env  %store  %sx  %system  %tb  %time  %timeit  %unalias  %unload_ext  %who  %who_ls  %whos  %xdel  %xmode\n",
       "\n",
       "Available cell magics:\n",
       "%%!  %%HTML  %%SVG  %%bash  %%capture  %%debug  %%file  %%html  %%javascript  %%js  %%latex  %%perl  %%prun  %%pypy  %%python  %%python2  %%python3  %%ruby  %%script  %%sh  %%svg  %%sx  %%system  %%time  %%timeit  %%writefile\n",
       "\n",
       "Automagic is ON, % prefix IS NOT needed for line magics."
      ]
     },
     "execution_count": 8,
     "metadata": {},
     "output_type": "execute_result"
    }
   ],
   "source": [
    "%lsmagic"
   ]
  },
  {
   "cell_type": "markdown",
   "metadata": {},
   "source": [
    "`%matplotlib inline` is the magic we want.  It allows us to automatically render matplotlib charts via pandas."
   ]
  },
  {
   "cell_type": "code",
   "execution_count": 9,
   "metadata": {},
   "outputs": [
    {
     "data": {
      "text/plain": [
       "<matplotlib.axes._subplots.AxesSubplot at 0x10b6cbc88>"
      ]
     },
     "execution_count": 9,
     "metadata": {},
     "output_type": "execute_result"
    },
    {
     "data": {
      "image/png": "[encoded data removed]",
      "text/plain": [
       "<matplotlib.figure.Figure at 0x10ac41c50>"
      ]
     },
     "metadata": {},
     "output_type": "display_data"
    }
   ],
   "source": [
    "%matplotlib inline\n",
    "\n",
    "df.groupby(['year'])['title_length'].mean().plot.bar()"
   ]
  },
  {
   "cell_type": "markdown",
   "metadata": {},
   "source": [
    "## Other Fancy Things\n",
    "\n",
    "### Using Another Language\n",
    "\n",
    "Although Jupyter Notebook is written in Python, it supports other languages via language-specific \"kernels\".  You can choose the kernel with which you are running your notebook when you create it.\n",
    "\n",
    "![Kernels](kernels.png)\n",
    "\n",
    "#### Installing kernels\n",
    "\n",
    "For R, you need to install [IRKernel](https://irkernel.github.io/installation/).\n",
    "\n",
    "#### Running R and Python side by side\n",
    "\n",
    "You can actually run R and Python side by side in the IPython kernel by using a *magic* to load a special extension that provides a Python interface to R (Note: you need to install [rpy2](https://rpy2.bitbucket.io/) for this to work.\n",
    "\n",
    "```\n",
    "pip3 install rpy2\n",
    "```\n",
    "\n",
    "Once you have done this, you can use the `%load_ext` magic to lead the `rpy2.ipython` extension."
   ]
  },
  {
   "cell_type": "code",
   "execution_count": 10,
   "metadata": {
    "collapsed": true
   },
   "outputs": [],
   "source": [
    "%load_ext rpy2.ipython"
   ]
  },
  {
   "cell_type": "code",
   "execution_count": 11,
   "metadata": {},
   "outputs": [
    {
     "data": {
      "text/plain": [
       "[1] \"I survived csv,conf,v3!\"\n"
      ]
     },
     "metadata": {},
     "output_type": "display_data"
    }
   ],
   "source": [
    "%%R\n",
    "\n",
    "x <- \"I survived csv,conf,v3!\"\n",
    "x"
   ]
  },
  {
   "cell_type": "markdown",
   "metadata": {},
   "source": [
    "#### Running JavaScript\n",
    "\n",
    "Using the `%%javascript` magic, you can just write JavaScript."
   ]
  },
  {
   "cell_type": "code",
   "execution_count": 12,
   "metadata": {},
   "outputs": [
    {
     "data": {
      "application/javascript": [
       "\n",
       "/* Running JavaScript */\n",
       "\n",
       "var x = \"I survived csv,conf,v3!\";\n",
       "element.text(x);"
      ],
      "text/plain": [
       "<IPython.core.display.Javascript object>"
      ]
     },
     "metadata": {},
     "output_type": "display_data"
    }
   ],
   "source": [
    "%%javascript\n",
    "\n",
    "/* Running JavaScript */\n",
    "\n",
    "var x = \"I survived csv,conf,v3!\";\n",
    "element.text(x);"
   ]
  },
  {
   "cell_type": "markdown",
   "metadata": {},
   "source": [
    "##### Ignoring Checkpoints\n",
    "\n",
    "This is not fancy, but can help when you are working with git.  On manual save, Jupyter Notebooks tend to create files in a directory called `.ipynb_checkpoints`.  You might want to add this to your `.gitignore` file:\n",
    "\n",
    "```\n",
    "# .gitignore\n",
    "\n",
    ".ipynb_checkpoints\n",
    "```"
   ]
  },
  {
   "cell_type": "markdown",
   "metadata": {
    "collapsed": true
   },
   "source": [
    "# Sources\n",
    "\n",
    "- https://github.com/michhar/useR2016-tutorial-jupyter\n",
    "- http://blog.revolutionanalytics.com/2016/01/pipelining-r-python.html\n",
    "- https://notebooks.azure.com\n",
    "- https://www.datacamp.com/community/blog/jupyter-notebook-r#gs.bRi_RiA\n",
    "- https://michhar.github.io/posts/jupyter-and-beaker-make-a-case"
   ]
  }
 ],
 "metadata": {
  "kernelspec": {
   "display_name": "Python 3",
   "language": "python",
   "name": "python3"
  },
  "language_info": {
   "codemirror_mode": {
    "name": "ipython",
    "version": 3
   },
   "file_extension": ".py",
   "mimetype": "text/x-python",
   "name": "python",
   "nbconvert_exporter": "python",
   "pygments_lexer": "ipython3",
   "version": "3.6.1"
  }
 },
 "nbformat": 4,
 "nbformat_minor": 2
}
